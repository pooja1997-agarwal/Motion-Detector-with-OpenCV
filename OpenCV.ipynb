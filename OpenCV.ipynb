{
 "cells": [
  {
   "cell_type": "code",
   "execution_count": null,
   "metadata": {},
   "outputs": [],
   "source": [
    "import cv2"
   ]
  },
  {
   "cell_type": "code",
   "execution_count": null,
   "metadata": {},
   "outputs": [],
   "source": [
    "img = cv2.imread('love.jpg',1)"
   ]
  },
  {
   "cell_type": "code",
   "execution_count": null,
   "metadata": {},
   "outputs": [],
   "source": [
    "print(type(img))"
   ]
  },
  {
   "cell_type": "code",
   "execution_count": null,
   "metadata": {},
   "outputs": [],
   "source": [
    "print(img.shape)"
   ]
  },
  {
   "cell_type": "code",
   "execution_count": null,
   "metadata": {},
   "outputs": [],
   "source": [
    "resized = cv2.resize(img,(600,600))"
   ]
  },
  {
   "cell_type": "code",
   "execution_count": null,
   "metadata": {},
   "outputs": [],
   "source": [
    "cv2.imshow('Legend',resized)\n",
    "cv2.waitKey(0)\n",
    "cv2.destroyAllWindows()"
   ]
  },
  {
   "cell_type": "code",
   "execution_count": null,
   "metadata": {},
   "outputs": [],
   "source": [
    "face_cascade = cv2.CascadeClassifier('C:\\\\Users\\\\dell\\\\Anaconda\\\\Library\\\\etc\\\\haarcascades\\\\haarcascade_frontalface_default.xml')\n",
    "gray_img = cv2.cvtColor(resized,cv2.COLOR_BGR2GRAY)"
   ]
  },
  {
   "cell_type": "code",
   "execution_count": null,
   "metadata": {},
   "outputs": [],
   "source": [
    "faces = face_cascade.detectMultiScale(gray_img,scaleFactor=1.3,minNeighbors=5)"
   ]
  },
  {
   "cell_type": "code",
   "execution_count": null,
   "metadata": {},
   "outputs": [],
   "source": [
    "print(type(faces))\n",
    "print(faces)"
   ]
  },
  {
   "cell_type": "code",
   "execution_count": null,
   "metadata": {},
   "outputs": [],
   "source": [
    "for x,y,w,h in faces:\n",
    "    resized = cv2.rectangle(resized,(x,y),(x+w,y+h),(0,255,0),3)"
   ]
  },
  {
   "cell_type": "code",
   "execution_count": null,
   "metadata": {},
   "outputs": [],
   "source": [
    "cv2.imshow(\"Gray\",resized)\n",
    "cv2.waitKey(0)\n",
    "cv2.destroyAllWindows()"
   ]
  },
  {
   "cell_type": "markdown",
   "metadata": {},
   "source": [
    "# video capture"
   ]
  },
  {
   "cell_type": "code",
   "execution_count": null,
   "metadata": {},
   "outputs": [],
   "source": [
    "import cv2\n",
    "video = cv2.VideoCapture(0)\n",
    "check,frame=video.read()\n",
    "print(check)\n",
    "print(frame)"
   ]
  },
  {
   "cell_type": "code",
   "execution_count": null,
   "metadata": {},
   "outputs": [],
   "source": [
    "import time\n",
    "time.sleep(3)\n",
    "cv2.imshow('Capture',frame)\n",
    "cv2.waitKey(0)\n",
    "\n",
    "video.release()\n",
    "cv2.destroyAllWindows()"
   ]
  },
  {
   "cell_type": "markdown",
   "metadata": {},
   "source": [
    "# Video Capturing"
   ]
  },
  {
   "cell_type": "code",
   "execution_count": null,
   "metadata": {},
   "outputs": [],
   "source": [
    "import cv2,time\n",
    "video = cv2.VideoCapture(0)\n",
    "a=1"
   ]
  },
  {
   "cell_type": "code",
   "execution_count": null,
   "metadata": {},
   "outputs": [],
   "source": [
    "while True:\n",
    "    a=a+1\n",
    "    check, frame=video.read()\n",
    "    print(frame)\n",
    "    gray = cv2.cvtColor(frame,cv2.COLOR_BGR2GRAY)\n",
    "    cv2.imshow('Capture',gray)\n",
    "    key=cv2.waitKey(1)\n",
    "    if key==ord('q'):\n",
    "        break\n",
    "print(a)\n",
    "video.release()\n",
    "cv2.destroyAllWindows()"
   ]
  },
  {
   "cell_type": "markdown",
   "metadata": {},
   "source": [
    "# Motion Detector"
   ]
  },
  {
   "cell_type": "code",
   "execution_count": 1,
   "metadata": {},
   "outputs": [],
   "source": [
    "import cv2,time,pandas\n",
    "from datetime import datetime"
   ]
  },
  {
   "cell_type": "code",
   "execution_count": 6,
   "metadata": {},
   "outputs": [],
   "source": [
    "first_frame=None\n",
    "status_list=[None,None]\n",
    "times=[]\n",
    "df = pandas.DataFrame(columns=['Start','End'])\n"
   ]
  },
  {
   "cell_type": "code",
   "execution_count": 7,
   "metadata": {},
   "outputs": [
    {
     "name": "stdout",
     "output_type": "stream",
     "text": [
      "[0, 0]\n",
      "[datetime.datetime(2019, 1, 19, 15, 37, 29, 403213), datetime.datetime(2019, 1, 19, 15, 37, 30, 698751), datetime.datetime(2019, 1, 19, 15, 37, 31, 899541), datetime.datetime(2019, 1, 19, 15, 37, 33, 419480), datetime.datetime(2019, 1, 19, 15, 37, 33, 899198), datetime.datetime(2019, 1, 19, 15, 37, 35, 52116), datetime.datetime(2019, 1, 19, 15, 37, 36, 827372), datetime.datetime(2019, 1, 19, 15, 37, 37, 821715), datetime.datetime(2019, 1, 19, 15, 37, 38, 635540), datetime.datetime(2019, 1, 19, 15, 37, 45, 710632), datetime.datetime(2019, 1, 19, 15, 37, 47, 35092), datetime.datetime(2019, 1, 19, 15, 37, 48, 13478)]\n"
     ]
    }
   ],
   "source": [
    "video = cv2.VideoCapture(0)\n",
    "while True:\n",
    "    check,frame=video.read()\n",
    "    status = 0\n",
    "    gray=cv2.cvtColor(frame,cv2.COLOR_BGR2GRAY)\n",
    "    gray = cv2.GaussianBlur(gray,(21,21),0)\n",
    "    \n",
    "    if first_frame is None:\n",
    "        first_frame=gray\n",
    "        continue\n",
    "    \n",
    "    \n",
    "    \n",
    "    delta_frame=cv2.absdiff(first_frame,gray)\n",
    "    thresh_delta = cv2.threshold(delta_frame,30,255,cv2.THRESH_BINARY)[1]\n",
    "    thresh_delta = cv2.dilate(thresh_delta,None,iterations=0)\n",
    "    (_,cnts,_) = cv2.findContours(thresh_delta.copy(),cv2.RETR_EXTERNAL,cv2.CHAIN_APPROX_SIMPLE)\n",
    "    for contour in cnts:\n",
    "        if cv2.contourArea(contour)<5000:\n",
    "            continue\n",
    "        status=1\n",
    "        (x,y,w,h) = cv2.boundingRect(contour)\n",
    "        cv2.rectangle(frame,(x,y),(x+w,y+h),(0,255,0),3)\n",
    "    status_list.append(status)\n",
    "    status_list=status_list[-2:]\n",
    "    \n",
    "    if status_list[-1]==1 and status_list[-2]==0:\n",
    "        times.append(datetime.now())\n",
    "    if status_list[-1]==0 and status_list[-2]==1:\n",
    "        times.append(datetime.now())\n",
    "        \n",
    "    cv2.imshow('frame',frame)\n",
    "    cv2.imshow('Capturing',gray)\n",
    "    cv2.imshow('delta',delta_frame)\n",
    "    cv2.imshow('thresh',thresh_delta)\n",
    "    key = cv2.waitKey(1)\n",
    "    if key==ord('q'):\n",
    "        if status==1:\n",
    "            times.append(datetime.now())\n",
    "        break\n",
    "print(status_list)\n",
    "print(times)\n",
    "for i in range(0,len(times),2):\n",
    "    df = df.append({'Start':times[i],'End':times[i+1]},ignore_index  =True)\n",
    "df.to_csv('Times.csv')\n",
    "video.release()\n",
    "cv2.destroyAllWindows()"
   ]
  },
  {
   "cell_type": "code",
   "execution_count": 8,
   "metadata": {},
   "outputs": [
    {
     "name": "stderr",
     "output_type": "stream",
     "text": [
      "C:\\Users\\dell\\Anaconda\\lib\\site-packages\\bokeh\\util\\deprecation.py:34: BokehDeprecationWarning: responsive parameter was deprecated in Bokeh 0.12.10 and will be removed, use sizing_mode='fixed' for responsive=False or sizing_mode='scale_width' for responsive=True instead.\n",
      "  warn(message)\n"
     ]
    }
   ],
   "source": [
    "from bokeh.plotting import figure, show, output_file, Figure\n",
    "from bokeh.models import HoverTool, ColumnDataSource\n",
    "df['Start'] = pandas.to_datetime(df['Start'])\n",
    "df['End'] = pandas.to_datetime(df['End'])\n",
    "df['Start_string']=df['Start'].dt.strftime('%Y-%m-%d %H:%M:%S')\n",
    "df['End_string']=df['End'].dt.strftime('%Y-%m-%d %H:%M:%S')\n",
    "cds = ColumnDataSource(df)\n",
    "p=figure(x_axis_type = 'datetime',height=100,width=500,responsive=True,title='Motion Graph')\n",
    "p.yaxis.minor_tick_line_color=None"
   ]
  },
  {
   "cell_type": "code",
   "execution_count": 9,
   "metadata": {},
   "outputs": [],
   "source": [
    "p.ygrid[0].ticker.desired_num_ticks=1\n",
    "\n",
    "hover=HoverTool(tooltips=[(\"Start\",\"@Start_string\"),(\"End\",\"@End_string\")])\n",
    "p.add_tools(hover)\n",
    "\n",
    "q=p.quad(left=\"Start\",right=\"End\",bottom=0,top=1,color=\"green\",source=cds)\n",
    "\n",
    "output_file(\"Graph1.html\")\n",
    "show(p)"
   ]
  },
  {
   "cell_type": "code",
   "execution_count": null,
   "metadata": {},
   "outputs": [],
   "source": []
  }
 ],
 "metadata": {
  "kernelspec": {
   "display_name": "Python 3",
   "language": "python",
   "name": "python3"
  },
  "language_info": {
   "codemirror_mode": {
    "name": "ipython",
    "version": 3
   },
   "file_extension": ".py",
   "mimetype": "text/x-python",
   "name": "python",
   "nbconvert_exporter": "python",
   "pygments_lexer": "ipython3",
   "version": "3.6.4"
  }
 },
 "nbformat": 4,
 "nbformat_minor": 2
}
